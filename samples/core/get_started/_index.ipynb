{
  "nbformat": 4,
  "nbformat_minor": 0,
  "metadata": {
    "colab": {
      "name": "_index.ipynb",
      "version": "0.3.2",
      "provenance": [],
      "toc_visible": true
    }
  },
  "cells": [
    {
      "metadata": {
        "id": "rX8mhOLljYeM",
        "colab_type": "text"
      },
      "cell_type": "markdown",
      "source": [
        "##### Copyright 2018 The TensorFlow Authors.\n",
        "\n",
        "Licensed under the Apache License, Version 2.0 (the \"License\");"
      ]
    },
    {
      "metadata": {
        "id": "BZSlp3DAjdYf",
        "colab_type": "code",
        "colab": {
          "base_uri": "https://localhost:8080/",
          "height": 17
        },
        "outputId": "e44cf92e-dc48-4932-8b71-abf186c1b773"
      },
      "cell_type": "code",
      "source": [
        "#@title Licensed under the Apache License, Version 2.0 (the \"License\");\n",
        "# you may not use this file except in compliance with the License.\n",
        "# You may obtain a copy of the License at\n",
        "#\n",
        "# https://www.apache.org/licenses/LICENSE-2.0\n",
        "#\n",
        "# Unless required by applicable law or agreed to in writing, software\n",
        "# distributed under the License is distributed on an \"AS IS\" BASIS,\n",
        "# WITHOUT WARRANTIES OR CONDITIONS OF ANY KIND, either express or implied.\n",
        "# See the License for the specific language governing permissions and\n",
        "# limitations under the License."
      ],
      "execution_count": 5,
      "outputs": []
    },
    {
      "metadata": {
        "id": "3wF5wszaj97Y",
        "colab_type": "text"
      },
      "cell_type": "markdown",
      "source": [
        "# Get Started with TensorFlow"
      ]
    },
    {
      "metadata": {
        "id": "DUNzJc4jTj6G",
        "colab_type": "text"
      },
      "cell_type": "markdown",
      "source": [
        "<table class=\"tfo-notebook-buttons\" align=\"left\"><td>\n",
        "<a target=\"_blank\"  href=\"https://colab.research.google.com/github/tensorflow/models/blob/master/samples/core/get_started/_index.ipynb\">\n",
        "    <img src=\"https://www.tensorflow.org/images/colab_logo_32px.png\" /><span>Run in Google Colab</span></a>  \n",
        "</td><td>\n",
        "<a target=\"_blank\"  href=\"https://github.com/tensorflow/models/blob/master/samples/core/get_started/_index.ipynb\"><img width=32px src=\"https://www.tensorflow.org/images/GitHub-Mark-32px.png\" /><span>View source on GitHub</span></a></td></table>"
      ]
    },
    {
      "metadata": {
        "id": "hiH7AC-NTniF",
        "colab_type": "text"
      },
      "cell_type": "markdown",
      "source": [
        "This is a [Google Colaboratory](https://colab.research.google.com/notebooks/welcome.ipynb) notebook file. Python programs are run directly in the browser—a great way to learn and use TensorFlow. To run the Colab notebook:\n",
        "\n",
        "1. Connect to a Python runtime: At the top-right of the menu bar, select *CONNECT*.\n",
        "2. Run all the notebook code cells: Select *Runtime* > *Run all*.\n",
        "\n",
        "For more examples and guides (including details for this program), see [Get Started with TensorFlow](https://www.tensorflow.org/get_started/).\n",
        "\n",
        "Let's get started, import the TensorFlow library into your program:"
      ]
    },
    {
      "metadata": {
        "id": "0trJmd6DjqBZ",
        "colab_type": "code",
        "colab": {
          "base_uri": "https://localhost:8080/",
          "height": 17
        },
        "outputId": "b9411fa0-1148-48ce-ded3-c88705d07af9"
      },
      "cell_type": "code",
      "source": [
        "import tensorflow as tf"
      ],
      "execution_count": 1,
      "outputs": []
    },
    {
      "metadata": {
        "id": "7NAbSZiaoJ4z",
        "colab_type": "text"
      },
      "cell_type": "markdown",
      "source": [
        "Load and prepare the [MNIST](http://yann.lecun.com/exdb/mnist/) dataset. Convert the samples from integers to floating-point numbers:"
      ]
    },
    {
      "metadata": {
        "id": "7FP5258xjs-v",
        "colab_type": "code",
        "colab": {
          "base_uri": "https://localhost:8080/",
          "height": 69
        },
        "outputId": "762dfc4a-5739-4f4a-c8ca-9d9c732cf401"
      },
      "cell_type": "code",
      "source": [
        "mnist = tf.keras.datasets.mnist\n",
        "\n",
        "(x_train, y_train), (x_test, y_test) = mnist.load_data()\n",
        "x_train, x_test = x_train / 255.0, x_test / 255.0"
      ],
      "execution_count": 2,
      "outputs": [
        {
          "output_type": "stream",
          "text": [
            "Downloading data from https://s3.amazonaws.com/img-datasets/mnist.npz\n",
            "11493376/11490434 [==============================] - 1s 0us/step\n",
            "11501568/11490434 [==============================] - 1s 0us/step\n"
          ],
          "name": "stdout"
        }
      ]
    },
    {
      "metadata": {
        "id": "BPZ68wASog_I",
        "colab_type": "text"
      },
      "cell_type": "markdown",
      "source": [
        "Build the `tf.keras` model by stacking layers. Select an optimizer and loss function used for training:"
      ]
    },
    {
      "metadata": {
        "id": "h3IKyzTCDNGo",
        "colab_type": "code",
        "colab": {
          "base_uri": "https://localhost:8080/",
          "height": 17
        },
        "outputId": "84c2f978-9d3a-4f15-d4d6-d2581d905e27"
      },
      "cell_type": "code",
      "source": [
        "model = tf.keras.models.Sequential([\n",
        "  tf.keras.layers.Flatten(),\n",
        "  tf.keras.layers.Dense(512, activation=tf.nn.relu),\n",
        "  tf.keras.layers.Dropout(0.2),\n",
        "  tf.keras.layers.Dense(10, activation=tf.nn.softmax)\n",
        "])\n",
        "\n",
        "model.compile(optimizer='adam',\n",
        "              loss='sparse_categorical_crossentropy',\n",
        "              metrics=['accuracy'])"
      ],
      "execution_count": 3,
      "outputs": []
    },
    {
      "metadata": {
        "id": "ix4mEL65on-w",
        "colab_type": "text"
      },
      "cell_type": "markdown",
      "source": [
        "Train and evaluate model:"
      ]
    },
    {
      "metadata": {
        "id": "F7dTAzgHDUh7",
        "colab_type": "code",
        "colab": {
          "base_uri": "https://localhost:8080/",
          "height": 245
        },
        "outputId": "a2b54fbd-33b0-488c-817c-cd0207263214"
      },
      "cell_type": "code",
      "source": [
        "model.fit(x_train, y_train, epochs=5)\n",
        "\n",
        "model.evaluate(x_test, y_test)"
      ],
      "execution_count": 4,
      "outputs": [
        {
          "output_type": "stream",
          "text": [
            "Epoch 1/5\n",
            "60000/60000 [==============================] - 16s 262us/step - loss: 0.2205 - acc: 0.9334\n",
            "Epoch 2/5\n",
            "60000/60000 [==============================] - 16s 268us/step - loss: 0.0962 - acc: 0.9714\n",
            "Epoch 3/5\n",
            " 9824/60000 [===>..........................] - ETA: 13s - loss: 0.0678 - acc: 0.9788"
          ],
          "name": "stdout"
        },
        {
          "output_type": "stream",
          "text": [
            "60000/60000 [==============================] - 16s 271us/step - loss: 0.0697 - acc: 0.9781\n",
            "Epoch 4/5\n",
            "60000/60000 [==============================] - 16s 271us/step - loss: 0.0533 - acc: 0.9826\n",
            "Epoch 5/5\n",
            "14784/60000 [======>.......................] - ETA: 12s - loss: 0.0377 - acc: 0.9877"
          ],
          "name": "stdout"
        },
        {
          "output_type": "stream",
          "text": [
            "60000/60000 [==============================] - 17s 277us/step - loss: 0.0435 - acc: 0.9858\n",
            "10000/10000 [==============================] - 1s 53us/step\n"
          ],
          "name": "stdout"
        },
        {
          "output_type": "execute_result",
          "data": {
            "text/plain": [
              "[0.061729254963551645, 0.9819]"
            ]
          },
          "metadata": {
            "tags": []
          },
          "execution_count": 4
        }
      ]
    },
    {
      "metadata": {
        "id": "T4JfEh7kvx6m",
        "colab_type": "text"
      },
      "cell_type": "markdown",
      "source": [
        "You’ve now trained an image classifier with ~98% accuracy on this dataset. See [Get Started with TensorFlow](https://www.tensorflow.org/get_started/) to learn more."
      ]
    }
  ]
}